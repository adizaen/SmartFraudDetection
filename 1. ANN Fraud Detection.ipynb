{
 "cells": [
  {
   "cell_type": "markdown",
   "metadata": {},
   "source": [
    "# IMPORT DATA"
   ]
  },
  {
   "cell_type": "markdown",
   "metadata": {},
   "source": [
    "Import data dataset asli untuk kemudian dilakukan preprocessing data\n",
    "\n",
    "https://blog.tensorflow.org/2020/01/hyperparameter-tuning-with-keras-tuner.html\n",
    "https://machinelearningmastery.com/save-load-keras-deep-learning-models/\n",
    "https://machinelearningmastery.com/how-to-make-classification-and-regression-predictions-for-deep-learning-models-in-keras/"
   ]
  },
  {
   "cell_type": "code",
   "execution_count": 110,
   "metadata": {},
   "outputs": [],
   "source": [
    "#import library\n",
    "\n",
    "import numpy as np\n",
    "import pandas as pd\n",
    "import matplotlib.pyplot as plt\n",
    "import seaborn as sns\n",
    "import csv\n",
    "from sklearn.preprocessing import StandardScaler\n",
    "from joblib import dump"
   ]
  },
  {
   "cell_type": "code",
   "execution_count": 111,
   "metadata": {},
   "outputs": [],
   "source": [
    "# fungsi untuk validasi nama kolom\n",
    "\n",
    "def HeaderFile():\n",
    "    list = []\n",
    "    \n",
    "    # perulangan untuk menghapus karakter double quote(\"\")\n",
    "    for col in df.columns:\n",
    "        col = col.replace('\"', '')\n",
    "        list.append(col)\n",
    "    \n",
    "    # mengganti kolom pada dataframe dengan kolom yang telah divalidasi\n",
    "    df.columns = list"
   ]
  },
  {
   "cell_type": "code",
   "execution_count": 112,
   "metadata": {
    "scrolled": true
   },
   "outputs": [
    {
     "data": {
      "text/html": [
       "<div>\n",
       "<style scoped>\n",
       "    .dataframe tbody tr th:only-of-type {\n",
       "        vertical-align: middle;\n",
       "    }\n",
       "\n",
       "    .dataframe tbody tr th {\n",
       "        vertical-align: top;\n",
       "    }\n",
       "\n",
       "    .dataframe thead th {\n",
       "        text-align: right;\n",
       "    }\n",
       "</style>\n",
       "<table border=\"1\" class=\"dataframe\">\n",
       "  <thead>\n",
       "    <tr style=\"text-align: right;\">\n",
       "      <th></th>\n",
       "      <th>X</th>\n",
       "      <th>id_tanggal_transaksi_awal</th>\n",
       "      <th>tanggal_transaksi_awal</th>\n",
       "      <th>tipe_kartu</th>\n",
       "      <th>id_merchant</th>\n",
       "      <th>nama_merchant</th>\n",
       "      <th>tipe_mesin</th>\n",
       "      <th>tipe_transaksi</th>\n",
       "      <th>nama_transaksi</th>\n",
       "      <th>nilai_transaksi</th>\n",
       "      <th>...</th>\n",
       "      <th>nama_channel</th>\n",
       "      <th>id_channel</th>\n",
       "      <th>flag_transaksi_finansial</th>\n",
       "      <th>status_transaksi</th>\n",
       "      <th>bank_pemilik_kartu</th>\n",
       "      <th>rata_rata_nilai_transaksi</th>\n",
       "      <th>maksimum_nilai_transaksi</th>\n",
       "      <th>minimum_nilai_transaksi</th>\n",
       "      <th>rata_rata_jumlah_transaksi</th>\n",
       "      <th>flag_transaksi_fraud</th>\n",
       "    </tr>\n",
       "  </thead>\n",
       "  <tbody>\n",
       "    <tr>\n",
       "      <th>0</th>\n",
       "      <td>4676</td>\n",
       "      <td>2457646</td>\n",
       "      <td>2457726</td>\n",
       "      <td>111</td>\n",
       "      <td>-2</td>\n",
       "      <td>1798</td>\n",
       "      <td>2605127</td>\n",
       "      <td>26</td>\n",
       "      <td>10</td>\n",
       "      <td>2200000.0</td>\n",
       "      <td>...</td>\n",
       "      <td>1</td>\n",
       "      <td>9</td>\n",
       "      <td>False</td>\n",
       "      <td>3</td>\n",
       "      <td>999</td>\n",
       "      <td>1.332293e+06</td>\n",
       "      <td>9750000.0</td>\n",
       "      <td>10000.0</td>\n",
       "      <td>2.73</td>\n",
       "      <td>0</td>\n",
       "    </tr>\n",
       "    <tr>\n",
       "      <th>1</th>\n",
       "      <td>788</td>\n",
       "      <td>2457419</td>\n",
       "      <td>2457507</td>\n",
       "      <td>111</td>\n",
       "      <td>-2</td>\n",
       "      <td>1798</td>\n",
       "      <td>-3</td>\n",
       "      <td>156</td>\n",
       "      <td>12</td>\n",
       "      <td>2500000.0</td>\n",
       "      <td>...</td>\n",
       "      <td>5</td>\n",
       "      <td>8</td>\n",
       "      <td>False</td>\n",
       "      <td>3</td>\n",
       "      <td>999</td>\n",
       "      <td>1.369048e+06</td>\n",
       "      <td>10000000.0</td>\n",
       "      <td>30000.0</td>\n",
       "      <td>2.33</td>\n",
       "      <td>1</td>\n",
       "    </tr>\n",
       "    <tr>\n",
       "      <th>2</th>\n",
       "      <td>1520</td>\n",
       "      <td>2457521</td>\n",
       "      <td>2457612</td>\n",
       "      <td>2</td>\n",
       "      <td>-2</td>\n",
       "      <td>1798</td>\n",
       "      <td>-3</td>\n",
       "      <td>156</td>\n",
       "      <td>12</td>\n",
       "      <td>1200000.0</td>\n",
       "      <td>...</td>\n",
       "      <td>5</td>\n",
       "      <td>8</td>\n",
       "      <td>False</td>\n",
       "      <td>3</td>\n",
       "      <td>999</td>\n",
       "      <td>1.552346e+07</td>\n",
       "      <td>100000000.0</td>\n",
       "      <td>41804.0</td>\n",
       "      <td>2.40</td>\n",
       "      <td>0</td>\n",
       "    </tr>\n",
       "    <tr>\n",
       "      <th>3</th>\n",
       "      <td>9346</td>\n",
       "      <td>2457659</td>\n",
       "      <td>2457746</td>\n",
       "      <td>103</td>\n",
       "      <td>75336</td>\n",
       "      <td>249</td>\n",
       "      <td>2806174</td>\n",
       "      <td>58</td>\n",
       "      <td>6</td>\n",
       "      <td>320000.0</td>\n",
       "      <td>...</td>\n",
       "      <td>2</td>\n",
       "      <td>4</td>\n",
       "      <td>False</td>\n",
       "      <td>3</td>\n",
       "      <td>999</td>\n",
       "      <td>7.117647e+05</td>\n",
       "      <td>6884408.0</td>\n",
       "      <td>10000.0</td>\n",
       "      <td>1.98</td>\n",
       "      <td>0</td>\n",
       "    </tr>\n",
       "    <tr>\n",
       "      <th>4</th>\n",
       "      <td>2914</td>\n",
       "      <td>2457311</td>\n",
       "      <td>2457385</td>\n",
       "      <td>0</td>\n",
       "      <td>-2</td>\n",
       "      <td>1798</td>\n",
       "      <td>2334932</td>\n",
       "      <td>26</td>\n",
       "      <td>10</td>\n",
       "      <td>150000.0</td>\n",
       "      <td>...</td>\n",
       "      <td>1</td>\n",
       "      <td>9</td>\n",
       "      <td>False</td>\n",
       "      <td>3</td>\n",
       "      <td>999</td>\n",
       "      <td>6.179683e+05</td>\n",
       "      <td>2500000.0</td>\n",
       "      <td>100000.0</td>\n",
       "      <td>1.46</td>\n",
       "      <td>0</td>\n",
       "    </tr>\n",
       "  </tbody>\n",
       "</table>\n",
       "<p>5 rows × 28 columns</p>\n",
       "</div>"
      ],
      "text/plain": [
       "      X  id_tanggal_transaksi_awal  tanggal_transaksi_awal  tipe_kartu  \\\n",
       "0  4676                    2457646                 2457726         111   \n",
       "1   788                    2457419                 2457507         111   \n",
       "2  1520                    2457521                 2457612           2   \n",
       "3  9346                    2457659                 2457746         103   \n",
       "4  2914                    2457311                 2457385           0   \n",
       "\n",
       "   id_merchant  nama_merchant  tipe_mesin  tipe_transaksi  nama_transaksi  \\\n",
       "0           -2           1798     2605127              26              10   \n",
       "1           -2           1798          -3             156              12   \n",
       "2           -2           1798          -3             156              12   \n",
       "3        75336            249     2806174              58               6   \n",
       "4           -2           1798     2334932              26              10   \n",
       "\n",
       "   nilai_transaksi  ...  nama_channel  id_channel  flag_transaksi_finansial  \\\n",
       "0        2200000.0  ...             1           9                     False   \n",
       "1        2500000.0  ...             5           8                     False   \n",
       "2        1200000.0  ...             5           8                     False   \n",
       "3         320000.0  ...             2           4                     False   \n",
       "4         150000.0  ...             1           9                     False   \n",
       "\n",
       "   status_transaksi  bank_pemilik_kartu  rata_rata_nilai_transaksi  \\\n",
       "0                 3                 999               1.332293e+06   \n",
       "1                 3                 999               1.369048e+06   \n",
       "2                 3                 999               1.552346e+07   \n",
       "3                 3                 999               7.117647e+05   \n",
       "4                 3                 999               6.179683e+05   \n",
       "\n",
       "   maksimum_nilai_transaksi  minimum_nilai_transaksi  \\\n",
       "0                 9750000.0                  10000.0   \n",
       "1                10000000.0                  30000.0   \n",
       "2               100000000.0                  41804.0   \n",
       "3                 6884408.0                  10000.0   \n",
       "4                 2500000.0                 100000.0   \n",
       "\n",
       "   rata_rata_jumlah_transaksi  flag_transaksi_fraud  \n",
       "0                        2.73                     0  \n",
       "1                        2.33                     1  \n",
       "2                        2.40                     0  \n",
       "3                        1.98                     0  \n",
       "4                        1.46                     0  \n",
       "\n",
       "[5 rows x 28 columns]"
      ]
     },
     "execution_count": 112,
     "metadata": {},
     "output_type": "execute_result"
    }
   ],
   "source": [
    "#import data csv\n",
    "\n",
    "df = pd.read_csv('fraud_data.csv', quoting = csv.QUOTE_NONE)\n",
    "HeaderFile()\n",
    "df.head(5)"
   ]
  },
  {
   "cell_type": "markdown",
   "metadata": {},
   "source": [
    "# PREPROCESSING"
   ]
  },
  {
   "cell_type": "markdown",
   "metadata": {},
   "source": [
    "Proses untuk membersihkan data dan mentransformasikan data sebelum dilakukan klasifikasi. Langkah-langkah yang dilakukan pada tahap ini yaitu mengisi kolom kosong, menghapus kolom dengan nilai konstan, dan normalisasi ke dalam range 0 dan 1"
   ]
  },
  {
   "cell_type": "code",
   "execution_count": 113,
   "metadata": {},
   "outputs": [],
   "source": [
    "# fungsi untuk menangani kolom kosong\n",
    "\n",
    "def HandlingMissingValue():\n",
    "    \n",
    "    # cek apakah ada nilai kosong atau tidak\n",
    "    isMissing = df.isnull().values.any()\n",
    "    \n",
    "    # jika ada nilai kosong (True), maka dilakukan proses fillna menggunakan median\n",
    "    if (isMissing == True):\n",
    "        \n",
    "        # membuat list kolom yang memiliki nilai kosong\n",
    "        missColumn = df.columns[df.isnull().any()].tolist() \n",
    "        \n",
    "        # perulangan untuk proses fillna\n",
    "        for col in missColumn:\n",
    "            df.fillna({\n",
    "                col: df[col].median()\n",
    "            }, inplace = True)\n",
    "        \n",
    "        print(\"Successfully handle missing values!\")\n",
    "        print(missColumn)\n",
    "    else:\n",
    "        print(\"Your data is complete! No handling missing value required.\")"
   ]
  },
  {
   "cell_type": "code",
   "execution_count": 114,
   "metadata": {},
   "outputs": [],
   "source": [
    "# fungsi untuk menangani kolom dengan nilai konstan\n",
    "\n",
    "def HandlingConstantValue():\n",
    "    constantValue = []\n",
    "    \n",
    "    # mengecek jumlah data berbeda (unik) suatu kolom. Jika bernilai 1, maka kolom tersebut bernilai konstan (tetap)\n",
    "    for col in df.columns:\n",
    "        if (df[col].nunique() == 1):\n",
    "            constantValue.append(col)\n",
    "        \n",
    "    # jika ada kolom dengan nilai konstan, maka akan dihapus\n",
    "    if (len(constantValue) > 0):\n",
    "        for col in constantValue:\n",
    "            # menghapus kolom yang bernilai konstan\n",
    "            df.drop(col, inplace = True, axis = 1)\n",
    "        \n",
    "        print(\"Successfully handle constant values!\")\n",
    "        print(constantValue)\n",
    "    else:\n",
    "        print(\"Your data is good! No handling constant value required.\")"
   ]
  },
  {
   "cell_type": "code",
   "execution_count": 115,
   "metadata": {},
   "outputs": [],
   "source": [
    "# fungsi untuk normalisasi menggunakan Z Score\n",
    "\n",
    "def Normalization(dataFrame):\n",
    "    # membuat object dari class StandardScaler()\n",
    "    std_scaler = StandardScaler()\n",
    "    \n",
    "    # menyimpan list kolom selain kolom kelas\n",
    "    target = \"flag_transaksi_fraud\"\n",
    "    classColumn = dataFrame[target]\n",
    "    \n",
    "    cols = dataFrame.columns.tolist()\n",
    "    cols = [c for c in cols if c not in [target]]\n",
    "    \n",
    "    # membagi dataframe fitur dan dataframe kelas\n",
    "    targetColumn = dataFrame[cols]\n",
    "    \n",
    "    # proses fit (mencari nilai rerata dan standar deviasi) dan transform (menerapkan ke data)\n",
    "    df_std = pd.DataFrame(std_scaler.fit_transform(targetColumn), columns = cols)\n",
    "    \n",
    "    # scaler for future new data\n",
    "    # dump(std_scaler, 'scaler.bin', compress=True)\n",
    "    \n",
    "    # menggabungkan dataframe hasil normalisasi dengan kolom target\n",
    "    frameClass = pd.DataFrame(classColumn)\n",
    "    df_std[target] = frameClass\n",
    "    \n",
    "    print(\"Data normalization complete!\")\n",
    "    \n",
    "    # mengembalikan nilai hasil normalisasi\n",
    "    return df_std"
   ]
  },
  {
   "cell_type": "code",
   "execution_count": 116,
   "metadata": {},
   "outputs": [
    {
     "name": "stdout",
     "output_type": "stream",
     "text": [
      "Successfully handle missing values!\n",
      "['rata_rata_nilai_transaksi', 'maksimum_nilai_transaksi', 'minimum_nilai_transaksi', 'rata_rata_jumlah_transaksi']\n"
     ]
    }
   ],
   "source": [
    "HandlingMissingValue()"
   ]
  },
  {
   "cell_type": "code",
   "execution_count": 117,
   "metadata": {},
   "outputs": [
    {
     "name": "stdout",
     "output_type": "stream",
     "text": [
      "Successfully handle constant values!\n",
      "['flag_transaksi_finansial', 'status_transaksi', 'bank_pemilik_kartu']\n"
     ]
    }
   ],
   "source": [
    "HandlingConstantValue()"
   ]
  },
  {
   "cell_type": "code",
   "execution_count": 118,
   "metadata": {},
   "outputs": [
    {
     "name": "stdout",
     "output_type": "stream",
     "text": [
      "Data normalization complete!\n"
     ]
    },
    {
     "data": {
      "text/html": [
       "<div>\n",
       "<style scoped>\n",
       "    .dataframe tbody tr th:only-of-type {\n",
       "        vertical-align: middle;\n",
       "    }\n",
       "\n",
       "    .dataframe tbody tr th {\n",
       "        vertical-align: top;\n",
       "    }\n",
       "\n",
       "    .dataframe thead th {\n",
       "        text-align: right;\n",
       "    }\n",
       "</style>\n",
       "<table border=\"1\" class=\"dataframe\">\n",
       "  <thead>\n",
       "    <tr style=\"text-align: right;\">\n",
       "      <th></th>\n",
       "      <th>X</th>\n",
       "      <th>id_tanggal_transaksi_awal</th>\n",
       "      <th>tanggal_transaksi_awal</th>\n",
       "      <th>tipe_kartu</th>\n",
       "      <th>id_merchant</th>\n",
       "      <th>nama_merchant</th>\n",
       "      <th>tipe_mesin</th>\n",
       "      <th>tipe_transaksi</th>\n",
       "      <th>nama_transaksi</th>\n",
       "      <th>nilai_transaksi</th>\n",
       "      <th>...</th>\n",
       "      <th>waktu_transaksi</th>\n",
       "      <th>kuartal_transaksi</th>\n",
       "      <th>kepemilikan_kartu</th>\n",
       "      <th>nama_channel</th>\n",
       "      <th>id_channel</th>\n",
       "      <th>rata_rata_nilai_transaksi</th>\n",
       "      <th>maksimum_nilai_transaksi</th>\n",
       "      <th>minimum_nilai_transaksi</th>\n",
       "      <th>rata_rata_jumlah_transaksi</th>\n",
       "      <th>flag_transaksi_fraud</th>\n",
       "    </tr>\n",
       "  </thead>\n",
       "  <tbody>\n",
       "    <tr>\n",
       "      <th>0</th>\n",
       "      <td>-0.654485</td>\n",
       "      <td>1.489513</td>\n",
       "      <td>1.703695</td>\n",
       "      <td>0.627078</td>\n",
       "      <td>-0.316492</td>\n",
       "      <td>0.330866</td>\n",
       "      <td>0.964390</td>\n",
       "      <td>-1.072136</td>\n",
       "      <td>-0.187459</td>\n",
       "      <td>0.311769</td>\n",
       "      <td>...</td>\n",
       "      <td>1.150167</td>\n",
       "      <td>1.387640</td>\n",
       "      <td>0.269545</td>\n",
       "      <td>-0.398864</td>\n",
       "      <td>0.442869</td>\n",
       "      <td>-0.021621</td>\n",
       "      <td>-0.153676</td>\n",
       "      <td>-0.098312</td>\n",
       "      <td>0.212031</td>\n",
       "      <td>0</td>\n",
       "    </tr>\n",
       "    <tr>\n",
       "      <th>1</th>\n",
       "      <td>-1.553071</td>\n",
       "      <td>-0.676612</td>\n",
       "      <td>-0.308508</td>\n",
       "      <td>0.627078</td>\n",
       "      <td>-0.316492</td>\n",
       "      <td>0.330866</td>\n",
       "      <td>-1.663357</td>\n",
       "      <td>-0.159849</td>\n",
       "      <td>0.326463</td>\n",
       "      <td>0.417479</td>\n",
       "      <td>...</td>\n",
       "      <td>-1.373609</td>\n",
       "      <td>-1.035883</td>\n",
       "      <td>-3.709957</td>\n",
       "      <td>3.547680</td>\n",
       "      <td>-0.137874</td>\n",
       "      <td>0.003772</td>\n",
       "      <td>-0.138476</td>\n",
       "      <td>-0.068725</td>\n",
       "      <td>-0.076098</td>\n",
       "      <td>1</td>\n",
       "    </tr>\n",
       "    <tr>\n",
       "      <th>2</th>\n",
       "      <td>-1.383893</td>\n",
       "      <td>0.296713</td>\n",
       "      <td>0.656247</td>\n",
       "      <td>-2.036670</td>\n",
       "      <td>-0.316492</td>\n",
       "      <td>0.330866</td>\n",
       "      <td>-1.663357</td>\n",
       "      <td>-0.159849</td>\n",
       "      <td>0.326463</td>\n",
       "      <td>-0.040599</td>\n",
       "      <td>...</td>\n",
       "      <td>0.027581</td>\n",
       "      <td>0.175879</td>\n",
       "      <td>-3.709957</td>\n",
       "      <td>3.547680</td>\n",
       "      <td>-0.137874</td>\n",
       "      <td>9.782753</td>\n",
       "      <td>5.333591</td>\n",
       "      <td>-0.051262</td>\n",
       "      <td>-0.025675</td>\n",
       "      <td>0</td>\n",
       "    </tr>\n",
       "    <tr>\n",
       "      <th>3</th>\n",
       "      <td>0.424836</td>\n",
       "      <td>1.613564</td>\n",
       "      <td>1.887458</td>\n",
       "      <td>0.431573</td>\n",
       "      <td>0.290177</td>\n",
       "      <td>-3.957351</td>\n",
       "      <td>1.167183</td>\n",
       "      <td>-0.847573</td>\n",
       "      <td>-1.215305</td>\n",
       "      <td>-0.350683</td>\n",
       "      <td>...</td>\n",
       "      <td>0.338857</td>\n",
       "      <td>0.175879</td>\n",
       "      <td>0.269545</td>\n",
       "      <td>0.587772</td>\n",
       "      <td>-2.460848</td>\n",
       "      <td>-0.450331</td>\n",
       "      <td>-0.327907</td>\n",
       "      <td>-0.098312</td>\n",
       "      <td>-0.328211</td>\n",
       "      <td>0</td>\n",
       "    </tr>\n",
       "    <tr>\n",
       "      <th>4</th>\n",
       "      <td>-1.061715</td>\n",
       "      <td>-1.707191</td>\n",
       "      <td>-1.429462</td>\n",
       "      <td>-2.085546</td>\n",
       "      <td>-0.316492</td>\n",
       "      <td>0.330866</td>\n",
       "      <td>0.691849</td>\n",
       "      <td>-1.072136</td>\n",
       "      <td>-0.187459</td>\n",
       "      <td>-0.410586</td>\n",
       "      <td>...</td>\n",
       "      <td>0.092819</td>\n",
       "      <td>0.175879</td>\n",
       "      <td>0.269545</td>\n",
       "      <td>-0.398864</td>\n",
       "      <td>0.442869</td>\n",
       "      <td>-0.515133</td>\n",
       "      <td>-0.594482</td>\n",
       "      <td>0.034830</td>\n",
       "      <td>-0.702778</td>\n",
       "      <td>0</td>\n",
       "    </tr>\n",
       "    <tr>\n",
       "      <th>...</th>\n",
       "      <td>...</td>\n",
       "      <td>...</td>\n",
       "      <td>...</td>\n",
       "      <td>...</td>\n",
       "      <td>...</td>\n",
       "      <td>...</td>\n",
       "      <td>...</td>\n",
       "      <td>...</td>\n",
       "      <td>...</td>\n",
       "      <td>...</td>\n",
       "      <td>...</td>\n",
       "      <td>...</td>\n",
       "      <td>...</td>\n",
       "      <td>...</td>\n",
       "      <td>...</td>\n",
       "      <td>...</td>\n",
       "      <td>...</td>\n",
       "      <td>...</td>\n",
       "      <td>...</td>\n",
       "      <td>...</td>\n",
       "      <td>...</td>\n",
       "    </tr>\n",
       "    <tr>\n",
       "      <th>13120</th>\n",
       "      <td>0.456268</td>\n",
       "      <td>0.315798</td>\n",
       "      <td>0.389791</td>\n",
       "      <td>0.627078</td>\n",
       "      <td>-0.316492</td>\n",
       "      <td>0.330866</td>\n",
       "      <td>0.161889</td>\n",
       "      <td>1.447179</td>\n",
       "      <td>0.069502</td>\n",
       "      <td>-0.428204</td>\n",
       "      <td>...</td>\n",
       "      <td>0.034496</td>\n",
       "      <td>0.175879</td>\n",
       "      <td>0.269545</td>\n",
       "      <td>-0.398864</td>\n",
       "      <td>0.442869</td>\n",
       "      <td>1.073901</td>\n",
       "      <td>-0.296558</td>\n",
       "      <td>-0.073902</td>\n",
       "      <td>0.096779</td>\n",
       "      <td>0</td>\n",
       "    </tr>\n",
       "    <tr>\n",
       "      <th>13121</th>\n",
       "      <td>-0.331613</td>\n",
       "      <td>-0.294916</td>\n",
       "      <td>-0.216627</td>\n",
       "      <td>0.627078</td>\n",
       "      <td>-0.316492</td>\n",
       "      <td>0.330866</td>\n",
       "      <td>-1.441838</td>\n",
       "      <td>-1.072136</td>\n",
       "      <td>-0.187459</td>\n",
       "      <td>0.417479</td>\n",
       "      <td>...</td>\n",
       "      <td>0.700852</td>\n",
       "      <td>0.175879</td>\n",
       "      <td>0.269545</td>\n",
       "      <td>-0.398864</td>\n",
       "      <td>0.442869</td>\n",
       "      <td>0.380570</td>\n",
       "      <td>0.469531</td>\n",
       "      <td>0.034830</td>\n",
       "      <td>0.212031</td>\n",
       "      <td>0</td>\n",
       "    </tr>\n",
       "    <tr>\n",
       "      <th>13122</th>\n",
       "      <td>1.076126</td>\n",
       "      <td>1.241410</td>\n",
       "      <td>1.575061</td>\n",
       "      <td>0.431573</td>\n",
       "      <td>-0.316492</td>\n",
       "      <td>0.330866</td>\n",
       "      <td>-1.663357</td>\n",
       "      <td>-0.159849</td>\n",
       "      <td>0.326463</td>\n",
       "      <td>-0.022981</td>\n",
       "      <td>...</td>\n",
       "      <td>0.061422</td>\n",
       "      <td>0.175879</td>\n",
       "      <td>-3.709957</td>\n",
       "      <td>3.547680</td>\n",
       "      <td>-0.137874</td>\n",
       "      <td>-0.705997</td>\n",
       "      <td>-0.685683</td>\n",
       "      <td>0.034830</td>\n",
       "      <td>-0.796420</td>\n",
       "      <td>1</td>\n",
       "    </tr>\n",
       "    <tr>\n",
       "      <th>13123</th>\n",
       "      <td>-0.518588</td>\n",
       "      <td>0.229916</td>\n",
       "      <td>-0.133933</td>\n",
       "      <td>0.627078</td>\n",
       "      <td>-0.316492</td>\n",
       "      <td>0.330866</td>\n",
       "      <td>1.430326</td>\n",
       "      <td>-1.072136</td>\n",
       "      <td>-0.187459</td>\n",
       "      <td>-0.287257</td>\n",
       "      <td>...</td>\n",
       "      <td>-1.408891</td>\n",
       "      <td>-1.035883</td>\n",
       "      <td>0.269545</td>\n",
       "      <td>-0.398864</td>\n",
       "      <td>0.442869</td>\n",
       "      <td>-0.413931</td>\n",
       "      <td>-0.564082</td>\n",
       "      <td>-0.076121</td>\n",
       "      <td>-0.587527</td>\n",
       "      <td>0</td>\n",
       "    </tr>\n",
       "    <tr>\n",
       "      <th>13124</th>\n",
       "      <td>-0.039942</td>\n",
       "      <td>-0.609815</td>\n",
       "      <td>-0.170686</td>\n",
       "      <td>0.431573</td>\n",
       "      <td>-0.316492</td>\n",
       "      <td>0.330866</td>\n",
       "      <td>0.472482</td>\n",
       "      <td>0.857702</td>\n",
       "      <td>1.354309</td>\n",
       "      <td>-0.357731</td>\n",
       "      <td>...</td>\n",
       "      <td>0.761516</td>\n",
       "      <td>0.175879</td>\n",
       "      <td>0.269545</td>\n",
       "      <td>-0.398864</td>\n",
       "      <td>0.442869</td>\n",
       "      <td>-0.355953</td>\n",
       "      <td>-0.358879</td>\n",
       "      <td>-0.076121</td>\n",
       "      <td>-0.465072</td>\n",
       "      <td>0</td>\n",
       "    </tr>\n",
       "  </tbody>\n",
       "</table>\n",
       "<p>13125 rows × 25 columns</p>\n",
       "</div>"
      ],
      "text/plain": [
       "              X  id_tanggal_transaksi_awal  tanggal_transaksi_awal  \\\n",
       "0     -0.654485                   1.489513                1.703695   \n",
       "1     -1.553071                  -0.676612               -0.308508   \n",
       "2     -1.383893                   0.296713                0.656247   \n",
       "3      0.424836                   1.613564                1.887458   \n",
       "4     -1.061715                  -1.707191               -1.429462   \n",
       "...         ...                        ...                     ...   \n",
       "13120  0.456268                   0.315798                0.389791   \n",
       "13121 -0.331613                  -0.294916               -0.216627   \n",
       "13122  1.076126                   1.241410                1.575061   \n",
       "13123 -0.518588                   0.229916               -0.133933   \n",
       "13124 -0.039942                  -0.609815               -0.170686   \n",
       "\n",
       "       tipe_kartu  id_merchant  nama_merchant  tipe_mesin  tipe_transaksi  \\\n",
       "0        0.627078    -0.316492       0.330866    0.964390       -1.072136   \n",
       "1        0.627078    -0.316492       0.330866   -1.663357       -0.159849   \n",
       "2       -2.036670    -0.316492       0.330866   -1.663357       -0.159849   \n",
       "3        0.431573     0.290177      -3.957351    1.167183       -0.847573   \n",
       "4       -2.085546    -0.316492       0.330866    0.691849       -1.072136   \n",
       "...           ...          ...            ...         ...             ...   \n",
       "13120    0.627078    -0.316492       0.330866    0.161889        1.447179   \n",
       "13121    0.627078    -0.316492       0.330866   -1.441838       -1.072136   \n",
       "13122    0.431573    -0.316492       0.330866   -1.663357       -0.159849   \n",
       "13123    0.627078    -0.316492       0.330866    1.430326       -1.072136   \n",
       "13124    0.431573    -0.316492       0.330866    0.472482        0.857702   \n",
       "\n",
       "       nama_transaksi  nilai_transaksi  ...  waktu_transaksi  \\\n",
       "0           -0.187459         0.311769  ...         1.150167   \n",
       "1            0.326463         0.417479  ...        -1.373609   \n",
       "2            0.326463        -0.040599  ...         0.027581   \n",
       "3           -1.215305        -0.350683  ...         0.338857   \n",
       "4           -0.187459        -0.410586  ...         0.092819   \n",
       "...               ...              ...  ...              ...   \n",
       "13120        0.069502        -0.428204  ...         0.034496   \n",
       "13121       -0.187459         0.417479  ...         0.700852   \n",
       "13122        0.326463        -0.022981  ...         0.061422   \n",
       "13123       -0.187459        -0.287257  ...        -1.408891   \n",
       "13124        1.354309        -0.357731  ...         0.761516   \n",
       "\n",
       "       kuartal_transaksi  kepemilikan_kartu  nama_channel  id_channel  \\\n",
       "0               1.387640           0.269545     -0.398864    0.442869   \n",
       "1              -1.035883          -3.709957      3.547680   -0.137874   \n",
       "2               0.175879          -3.709957      3.547680   -0.137874   \n",
       "3               0.175879           0.269545      0.587772   -2.460848   \n",
       "4               0.175879           0.269545     -0.398864    0.442869   \n",
       "...                  ...                ...           ...         ...   \n",
       "13120           0.175879           0.269545     -0.398864    0.442869   \n",
       "13121           0.175879           0.269545     -0.398864    0.442869   \n",
       "13122           0.175879          -3.709957      3.547680   -0.137874   \n",
       "13123          -1.035883           0.269545     -0.398864    0.442869   \n",
       "13124           0.175879           0.269545     -0.398864    0.442869   \n",
       "\n",
       "       rata_rata_nilai_transaksi  maksimum_nilai_transaksi  \\\n",
       "0                      -0.021621                 -0.153676   \n",
       "1                       0.003772                 -0.138476   \n",
       "2                       9.782753                  5.333591   \n",
       "3                      -0.450331                 -0.327907   \n",
       "4                      -0.515133                 -0.594482   \n",
       "...                          ...                       ...   \n",
       "13120                   1.073901                 -0.296558   \n",
       "13121                   0.380570                  0.469531   \n",
       "13122                  -0.705997                 -0.685683   \n",
       "13123                  -0.413931                 -0.564082   \n",
       "13124                  -0.355953                 -0.358879   \n",
       "\n",
       "       minimum_nilai_transaksi  rata_rata_jumlah_transaksi  \\\n",
       "0                    -0.098312                    0.212031   \n",
       "1                    -0.068725                   -0.076098   \n",
       "2                    -0.051262                   -0.025675   \n",
       "3                    -0.098312                   -0.328211   \n",
       "4                     0.034830                   -0.702778   \n",
       "...                        ...                         ...   \n",
       "13120                -0.073902                    0.096779   \n",
       "13121                 0.034830                    0.212031   \n",
       "13122                 0.034830                   -0.796420   \n",
       "13123                -0.076121                   -0.587527   \n",
       "13124                -0.076121                   -0.465072   \n",
       "\n",
       "       flag_transaksi_fraud  \n",
       "0                         0  \n",
       "1                         1  \n",
       "2                         0  \n",
       "3                         0  \n",
       "4                         0  \n",
       "...                     ...  \n",
       "13120                     0  \n",
       "13121                     0  \n",
       "13122                     1  \n",
       "13123                     0  \n",
       "13124                     0  \n",
       "\n",
       "[13125 rows x 25 columns]"
      ]
     },
     "execution_count": 118,
     "metadata": {},
     "output_type": "execute_result"
    }
   ],
   "source": [
    "df = Normalization(df)\n",
    "df"
   ]
  },
  {
   "cell_type": "markdown",
   "metadata": {},
   "source": [
    "# SAMPLING DATA DENGAN SMOTE"
   ]
  },
  {
   "cell_type": "code",
   "execution_count": 119,
   "metadata": {},
   "outputs": [],
   "source": [
    "# SMOTE\n",
    "import imblearn\n",
    "from imblearn.over_sampling import SMOTE\n",
    "\n",
    "sm = SMOTE(random_state=42)\n",
    "\n",
    "cols = df.columns.tolist()\n",
    "cols = [c for c in cols if c not in [\"flag_transaksi_fraud\"]]\n",
    "target = \"flag_transaksi_fraud\"\n",
    "\n",
    "#define X and Y\n",
    "X = df[cols]\n",
    "Y = df[target]\n",
    "\n",
    "#smote\n",
    "X_smote, Y_smote = sm.fit_resample(X, Y)"
   ]
  },
  {
   "cell_type": "code",
   "execution_count": 120,
   "metadata": {},
   "outputs": [],
   "source": [
    "from pandas import DataFrame\n",
    "test = pd.DataFrame(Y_smote, columns = ['flag_transaksi_fraud'])"
   ]
  },
  {
   "cell_type": "code",
   "execution_count": 121,
   "metadata": {
    "scrolled": false
   },
   "outputs": [
    {
     "name": "stdout",
     "output_type": "stream",
     "text": [
      "Before SMOTE\n",
      "--------------------\n",
      "Normal Transactions \t:  12215\n",
      "Fraud Transactions \t:  910\n",
      "\n",
      "After SMOTE\n",
      "--------------------\n",
      "Normal Transactions \t:  12215\n",
      "Fraud Transactions \t:  12215\n"
     ]
    },
    {
     "data": {
      "image/png": "[encoded data removed]",
      "text/plain": [
       "<Figure size 936x324 with 2 Axes>"
      ]
     },
     "metadata": {
      "needs_background": "light"
     },
     "output_type": "display_data"
    }
   ],
   "source": [
    "#visualizing smote results\n",
    "fig, axs = plt.subplots(ncols=2, figsize=(13,4.5))\n",
    "sns.countplot(x=\"flag_transaksi_fraud\", data=df, ax=axs[0])\n",
    "sns.countplot(x=\"flag_transaksi_fraud\", data=test, ax=axs[1])\n",
    "\n",
    "fig.suptitle(\"Class repartition before and after smote\")\n",
    "a1=fig.axes[0]\n",
    "a1.set_title(\"Before\")\n",
    "a2=fig.axes[1]\n",
    "a2.set_title(\"After\")\n",
    "\n",
    "print('Before SMOTE')\n",
    "print('--------------------')\n",
    "print('Normal Transactions \\t: ', (Y.values == 0).sum())\n",
    "print('Fraud Transactions \\t: ', (Y.values == 1).sum())\n",
    "\n",
    "print('\\nAfter SMOTE')\n",
    "print('--------------------')\n",
    "print('Normal Transactions \\t: ', (test.values == 0).sum())\n",
    "print('Fraud Transactions \\t: ', (test.values == 1).sum())"
   ]
  },
  {
   "cell_type": "markdown",
   "metadata": {},
   "source": [
    "# BUILDING NN MODEL"
   ]
  },
  {
   "cell_type": "code",
   "execution_count": 122,
   "metadata": {},
   "outputs": [],
   "source": [
    "from sklearn.model_selection import train_test_split\n",
    "\n",
    "X_train, X_test, y_train, y_test = train_test_split(X_smote, Y_smote, test_size=0.2, random_state=1)"
   ]
  },
  {
   "cell_type": "code",
   "execution_count": 123,
   "metadata": {},
   "outputs": [],
   "source": [
    "import tensorflow as tf\n",
    "from tensorflow.keras import layers\n",
    "from tensorflow.keras.layers import Dropout\n",
    "from tensorflow.keras.layers import Dense\n",
    "from tensorflow.keras.layers import BatchNormalization\n",
    "from tensorflow.keras.models import Sequential\n",
    "from tensorflow.keras.callbacks import EarlyStopping\n",
    "\n",
    "from sklearn.metrics import auc\n",
    "from sklearn.metrics import confusion_matrix\n",
    "from sklearn.metrics import roc_curve\n",
    "from sklearn.metrics import precision_recall_curve\n",
    "\n",
    "from sklearn.metrics import accuracy_score\n",
    "from sklearn.metrics import precision_score\n",
    "from sklearn.metrics import recall_score\n",
    "from sklearn.metrics import f1_score"
   ]
  },
  {
   "cell_type": "code",
   "execution_count": 124,
   "metadata": {},
   "outputs": [],
   "source": [
    "#train the model\n",
    "model = Sequential()\n",
    "model.add(Dense(512, activation='relu', input_dim=24))\n",
    "model.add(Dense(256, activation='relu'))\n",
    "model.add(Dense(128, activation='relu'))\n",
    "model.add(Dense(1, activation='sigmoid'))"
   ]
  },
  {
   "cell_type": "code",
   "execution_count": 125,
   "metadata": {},
   "outputs": [],
   "source": [
    "opt = tf.keras.optimizers.Adam(learning_rate=0.0001)#optimizer\n",
    "model.compile(optimizer=opt, loss='binary_crossentropy', metrics=['accuracy']) #metrics"
   ]
  },
  {
   "cell_type": "code",
   "execution_count": 126,
   "metadata": {},
   "outputs": [],
   "source": [
    "earlystopper = EarlyStopping(monitor='val_loss', min_delta=0, patience=15, verbose=1, mode='auto', baseline=None, restore_best_weights=False)"
   ]
  },
  {
   "cell_type": "code",
   "execution_count": 127,
   "metadata": {
    "scrolled": true
   },
   "outputs": [
    {
     "name": "stdout",
     "output_type": "stream",
     "text": [
      "Epoch 00089: early stopping\n"
     ]
    }
   ],
   "source": [
    "history = model.fit(X_train.values, y_train.values, epochs = 100, batch_size=128, validation_split = 0.20, verbose = 0, callbacks = [earlystopper])\n",
    "history_dict = history.history"
   ]
  },
  {
   "cell_type": "code",
   "execution_count": 128,
   "metadata": {},
   "outputs": [
    {
     "data": {
      "text/plain": [
       "Text(0.5, 0, 'Epochs')"
      ]
     },
     "execution_count": 128,
     "metadata": {},
     "output_type": "execute_result"
    },
    {
     "data": {
      "image/png": "[encoded data removed]",
      "text/plain": [
       "<Figure size 432x288 with 1 Axes>"
      ]
     },
     "metadata": {
      "needs_background": "light"
     },
     "output_type": "display_data"
    }
   ],
   "source": [
    "loss_values = history_dict['loss']\n",
    "val_loss_values=history_dict['val_loss']\n",
    "plt.plot(loss_values,'b',label='training loss')\n",
    "plt.plot(val_loss_values,'r',label='val training loss')\n",
    "plt.legend()\n",
    "plt.xlabel(\"Epochs\")"
   ]
  },
  {
   "cell_type": "code",
   "execution_count": 129,
   "metadata": {},
   "outputs": [
    {
     "data": {
      "text/plain": [
       "Text(0.5, 0, 'Epochs')"
      ]
     },
     "execution_count": 129,
     "metadata": {},
     "output_type": "execute_result"
    },
    {
     "data": {
      "image/png": "[encoded data removed]",
      "text/plain": [
       "<Figure size 432x288 with 1 Axes>"
      ]
     },
     "metadata": {
      "needs_background": "light"
     },
     "output_type": "display_data"
    }
   ],
   "source": [
    "accuracy_values = history_dict['accuracy']\n",
    "val_accuracy_values=history_dict['val_accuracy']\n",
    "plt.plot(val_accuracy_values,'-r',label='val_accuracy')\n",
    "plt.plot(accuracy_values,'-b',label='accuracy')\n",
    "plt.legend()\n",
    "plt.xlabel(\"Epochs\")"
   ]
  },
  {
   "cell_type": "markdown",
   "metadata": {},
   "source": [
    "# RESULT AND ANALYSIS"
   ]
  },
  {
   "cell_type": "code",
   "execution_count": 130,
   "metadata": {},
   "outputs": [],
   "source": [
    "#predictions\n",
    "y_pred_nn = (model.predict(X_test) > 0.5).astype(\"int32\")"
   ]
  },
  {
   "cell_type": "code",
   "execution_count": 131,
   "metadata": {},
   "outputs": [
    {
     "data": {
      "image/png": "[encoded data removed]",
      "text/plain": [
       "<Figure size 432x288 with 1 Axes>"
      ]
     },
     "metadata": {
      "needs_background": "light"
     },
     "output_type": "display_data"
    },
    {
     "name": "stdout",
     "output_type": "stream",
     "text": [
      "Normal predicted normal (TP)\t: 2297\n",
      "Normal predicted fraud (FN)\t: 198\n",
      "Fraud predicted normal (FP)\t: 25\n",
      "Fraud predicted fraud (TN)\t: 2366\n"
     ]
    }
   ],
   "source": [
    "#CM matrix\n",
    "matrix_nn = confusion_matrix(y_test, y_pred_nn)\n",
    "cm_nn = pd.DataFrame(matrix_nn, index=['Normal', 'Fraud'], columns=['Normal', 'Fraud'])\n",
    "\n",
    "sns.heatmap(cm_nn, annot=True, cbar=None, cmap=\"Blues\", fmt = 'g')\n",
    "plt.title(\"Confusion Matrix Neural Network\"), plt.tight_layout()\n",
    "plt.ylabel(\"True Class\"), plt.xlabel(\"Predicted Class\")\n",
    "plt.show()\n",
    "\n",
    "tp, fn, fp, tn = matrix_nn.reshape(-1)\n",
    "print('Normal predicted normal (TP)\\t:', tp)\n",
    "print('Normal predicted fraud (FN)\\t:', fn)\n",
    "print('Fraud predicted normal (FP)\\t:', fp)\n",
    "print('Fraud predicted fraud (TN)\\t:', tn)"
   ]
  },
  {
   "cell_type": "code",
   "execution_count": 132,
   "metadata": {},
   "outputs": [
    {
     "name": "stdout",
     "output_type": "stream",
     "text": [
      "Performance result of model:\n",
      "----------------------------------\n",
      "Accuracy \t: 95.44 %\n",
      "Precision \t: 98.92 %\n",
      "Recall \t\t: 92.06 %\n",
      "Specificity \t: 98.95 %\n",
      "F1 Score \t: 95.37 %\n",
      "Error rate \t: 4.56 %\n"
     ]
    }
   ],
   "source": [
    "accuracy = ((tn+tp)/(tn+tp+fp+fn)) * 100\n",
    "precission = (tp/(tp+fp)) * 100\n",
    "recall = (tp/(tp+fn)) * 100\n",
    "specificity = (tn/(tn+fp)) * 100\n",
    "f1_score = 2 * (recall * precission) / (recall + precission)\n",
    "error = 100 - accuracy\n",
    "\n",
    "print('Performance result of model:')\n",
    "print('----------------------------------')\n",
    "print('Accuracy \\t: {:.2f} %'. format(accuracy))\n",
    "print('Precision \\t: {:.2f} %'. format(precission))\n",
    "print('Recall \\t\\t: {:.2f} %'. format(recall))\n",
    "print('Specificity \\t: {:.2f} %'. format(specificity))\n",
    "print('F1 Score \\t: {:.2f} %'. format(f1_score))\n",
    "print('Error rate \\t: {:.2f} %'. format(error))"
   ]
  },
  {
   "cell_type": "code",
   "execution_count": 133,
   "metadata": {},
   "outputs": [
    {
     "name": "stdout",
     "output_type": "stream",
     "text": [
      "AUC Neural Net: 98.18%\n"
     ]
    }
   ],
   "source": [
    "#AUC\n",
    "y_pred_nn_proba = model.predict(X_test)\n",
    "fpr_keras, tpr_keras, thresholds_keras = roc_curve(y_test,y_pred_nn_proba)\n",
    "auc_keras = auc(fpr_keras, tpr_keras)\n",
    "print('AUC Neural Net: {:.2f}' . format(auc_keras * 100) + '%')"
   ]
  },
  {
   "cell_type": "code",
   "execution_count": 134,
   "metadata": {},
   "outputs": [
    {
     "data": {
      "image/png": "[encoded data removed]",
      "text/plain": [
       "<Figure size 432x288 with 1 Axes>"
      ]
     },
     "metadata": {
      "needs_background": "light"
     },
     "output_type": "display_data"
    }
   ],
   "source": [
    "#ROC\n",
    "plt.figure(1)\n",
    "plt.plot([0, 1], [0, 1], 'k--')\n",
    "plt.plot(fpr_keras, tpr_keras, label='ROC value = {:.2f}' . format(auc_keras * 100) + '%')\n",
    "plt.xlabel('False positive rate')\n",
    "plt.ylabel('True positive rate')\n",
    "plt.title('Neural Net ROC curve')\n",
    "plt.legend(loc='best')\n",
    "plt.show()"
   ]
  },
  {
   "cell_type": "code",
   "execution_count": 135,
   "metadata": {},
   "outputs": [
    {
     "data": {
      "image/png": "[encoded data removed]",
      "text/plain": [
       "<Figure size 432x288 with 1 Axes>"
      ]
     },
     "metadata": {
      "needs_background": "light"
     },
     "output_type": "display_data"
    }
   ],
   "source": [
    "nn_precision, nn_recall, _ = precision_recall_curve(y_test, y_pred_nn_proba)\n",
    "no_skill = len(y_test[y_test==1]) / len(y_test)\n",
    "plt.plot([0, 1], [no_skill, no_skill], linestyle='--', color='black', label='No Skill')\n",
    "plt.plot(nn_recall, nn_precision, color='orange', label='TF NN')\n",
    "plt.xlabel('Recall')\n",
    "plt.ylabel('Precision')\n",
    "plt.title('Precision-Recall curve')\n",
    "plt.legend()\n",
    "plt.show()"
   ]
  },
  {
   "cell_type": "code",
   "execution_count": 136,
   "metadata": {},
   "outputs": [],
   "source": [
    "# # save model and architecture to single file\n",
    "# model.save(\"model 3.89.h5\")\n",
    "# print(\"Saved model to disk\")"
   ]
  },
  {
   "cell_type": "code",
   "execution_count": null,
   "metadata": {},
   "outputs": [],
   "source": []
  }
 ],
 "metadata": {
  "kernelspec": {
   "display_name": "Python 3",
   "language": "python",
   "name": "python3"
  },
  "language_info": {
   "codemirror_mode": {
    "name": "ipython",
    "version": 3
   },
   "file_extension": ".py",
   "mimetype": "text/x-python",
   "name": "python",
   "nbconvert_exporter": "python",
   "pygments_lexer": "ipython3",
   "version": "3.8.5"
  }
 },
 "nbformat": 4,
 "nbformat_minor": 4
}
